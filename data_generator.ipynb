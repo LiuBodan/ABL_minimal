{
 "cells": [
  {
   "cell_type": "code",
   "execution_count": 16,
   "metadata": {},
   "outputs": [],
   "source": [
    "import numpy as np\n",
    "import torch\n",
    "from torchvision import datasets, transforms\n",
    "from torch.optim.lr_scheduler import StepLR\n",
    "import matplotlib.pyplot as plt\n",
    "import torchvision.transforms as T\n",
    "from PIL import Image"
   ]
  },
  {
   "cell_type": "markdown",
   "metadata": {},
   "source": [
    "Download and transform train dataset."
   ]
  },
  {
   "cell_type": "code",
   "execution_count": 2,
   "metadata": {},
   "outputs": [],
   "source": [
    "transform=transforms.Compose([\n",
    "    transforms.ToTensor(),\n",
    "    transforms.Normalize((0.1307,), (0.3081,))\n",
    "    ])\n",
    "dataset1 = datasets.MNIST('data', train=True, download=True,\n",
    "                            transform=transform)\n",
    "dataset2 = datasets.MNIST('data', train=False,\n",
    "                            transform=transform)\n",
    "\n",
    "device = torch.device(\"cpu\")"
   ]
  },
  {
   "cell_type": "markdown",
   "metadata": {},
   "source": [
    "Grouping MNIST images w.r.t. their labels."
   ]
  },
  {
   "cell_type": "code",
   "execution_count": 3,
   "metadata": {},
   "outputs": [],
   "source": [
    "digit_groups_train = {0:[], 1:[], 2:[], 3:[], 4:[], \n",
    "                      5:[], 6:[], 7:[], 8:[], 9:[]}\n",
    "digit_groups_test = {0:[], 1:[], 2:[], 3:[], 4:[], 5:[], 6:[], 7:[], 8:[], 9:[]}\n",
    "\n",
    "for i in range(len(dataset1)): \n",
    "    digit_groups_train[int(dataset1.targets[i])].append(i)\n",
    "for i in range(len(dataset2)): \n",
    "    digit_groups_test[int(dataset2.targets[i])].append(i)"
   ]
  },
  {
   "cell_type": "code",
   "execution_count": 18,
   "metadata": {},
   "outputs": [],
   "source": [
    "transform = T.ToPILImage()\n",
    "img = transform(dataset1.data[0])\n",
    "img.show()"
   ]
  },
  {
   "cell_type": "markdown",
   "metadata": {},
   "source": [
    "For example, let's make the `MNIST Sum` dataset. Each example contains two images, and the label is the sum of the numbers in the two images."
   ]
  },
  {
   "cell_type": "code",
   "execution_count": 19,
   "metadata": {},
   "outputs": [],
   "source": [
    "class MNIST_Sum:\n",
    "    def __init__(self, num, digit_groups):\n",
    "        self.targets = [] # the final outputs, i.e., sum of the digits in images\n",
    "        self.img_indices = [] # the indices of images in the original MNIST dataset\n",
    "        self.ground_truth = [] # ground truth label (digit) for each image\n",
    "        self.length = num # number of this dataset\n",
    "        for i in range(num):\n",
    "            # sampling two numbers from 0 to 9\n",
    "            sampled_digits = np.random.choice(10, 2)\n",
    "            self.ground_truth.append(list(sampled_digits)) # label for each image\n",
    "\n",
    "            # using the sum of the sampled digits as the target\n",
    "            self.targets.append(sum(sampled_digits)) # final target\n",
    "\n",
    "            ids = []\n",
    "            for j in range(len(sampled_digits)):\n",
    "                # get the j-th digits\n",
    "                digit = sampled_digits[j]\n",
    "                # total number of the images of the digit\n",
    "                # get a random image index of the labeled digit\n",
    "                ids.append(np.random.choice(digit_groups[digit])) # dictionary of label-grouped images\n",
    "            self.img_indices.append(ids) # list of lists with two elements in the sub-list"
   ]
  },
  {
   "cell_type": "markdown",
   "metadata": {},
   "source": [
    "Generate the training and test data."
   ]
  },
  {
   "cell_type": "code",
   "execution_count": 33,
   "metadata": {},
   "outputs": [],
   "source": [
    "# Generate the training and test dataset for MNIST Sum task\n",
    "mnist_sum_data_train = MNIST_Sum(100, digit_groups_train) # there are 100 instances, each instance has 2 digits\n",
    "mnist_sum_data_test = MNIST_Sum(100, digit_groups_test)"
   ]
  },
  {
   "cell_type": "markdown",
   "metadata": {},
   "source": [
    "Have a look at the generated dataset."
   ]
  },
  {
   "cell_type": "code",
   "execution_count": 34,
   "metadata": {},
   "outputs": [
    {
     "name": "stdout",
     "output_type": "stream",
     "text": [
      "Showing example No. 94\n",
      "The sum of these images are 7\n",
      "The labels of these images are [6, 1]\n"
     ]
    },
    {
     "data": {
      "image/png": "[encoded data removed]",
      "text/plain": [
       "<Figure size 640x480 with 2 Axes>"
      ]
     },
     "metadata": {},
     "output_type": "display_data"
    }
   ],
   "source": [
    "# Sample an example\n",
    "idx = np.random.choice(mnist_sum_data_train.length)\n",
    "print(\"Showing example No.\", idx)\n",
    "\n",
    "# Get the indices of the images in the example\n",
    "img_id_0 = mnist_sum_data_train.img_indices[idx][0]\n",
    "img_id_1 = mnist_sum_data_train.img_indices[idx][1]\n",
    "\n",
    "# Plot them\n",
    "_, axs = plt.subplots(1,2)\n",
    "axs[0].imshow(dataset1.data[img_id_0, :, :])\n",
    "axs[1].imshow(dataset1.data[img_id_1, :, :])\n",
    "\n",
    "# Print\n",
    "print(\"The sum of these images are\", mnist_sum_data_train.targets[idx])\n",
    "print(\"The labels of these images are\", mnist_sum_data_train.ground_truth[idx])"
   ]
  }
 ],
 "metadata": {
  "kernelspec": {
   "display_name": ".venv",
   "language": "python",
   "name": "python3"
  },
  "language_info": {
   "codemirror_mode": {
    "name": "ipython",
    "version": 3
   },
   "file_extension": ".py",
   "mimetype": "text/x-python",
   "name": "python",
   "nbconvert_exporter": "python",
   "pygments_lexer": "ipython3",
   "version": "3.11.0"
  },
  "orig_nbformat": 4,
  "vscode": {
   "interpreter": {
    "hash": "0818a47565ceb6402158bbf0dc496aa25facf52e7106c9c4cd712582e3748063"
   }
  }
 },
 "nbformat": 4,
 "nbformat_minor": 2
}
